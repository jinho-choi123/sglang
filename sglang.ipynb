{
  "nbformat": 4,
  "nbformat_minor": 0,
  "metadata": {
    "colab": {
      "provenance": [],
      "authorship_tag": "ABX9TyPh5PMl1zCDOLIEHr/dvBKy",
      "include_colab_link": true
    },
    "kernelspec": {
      "name": "python3",
      "display_name": "Python 3"
    },
    "language_info": {
      "name": "python"
    }
  },
  "cells": [
    {
      "cell_type": "markdown",
      "metadata": {
        "id": "view-in-github",
        "colab_type": "text"
      },
      "source": [
        "<a href=\"https://colab.research.google.com/github/jinho-choi123/sglang/blob/main/sglang.ipynb\" target=\"_parent\"><img src=\"https://colab.research.google.com/assets/colab-badge.svg\" alt=\"Open In Colab\"/></a>"
      ]
    },
    {
      "cell_type": "markdown",
      "source": [
        "## SGLANG tutorial in Colab\n",
        "\n",
        "### Description\n",
        "This notebook is a hands-on tutorial for SGLang at Colab. Project will serve Deepseek-R1 model."
      ],
      "metadata": {
        "id": "bsAx3m28QPJR"
      }
    },
    {
      "cell_type": "markdown",
      "source": [
        "## SGLang Installation"
      ],
      "metadata": {
        "id": "JGyCUNgrQSvE"
      }
    },
    {
      "cell_type": "code",
      "source": [],
      "metadata": {
        "id": "TKJQWRYsQQXM"
      },
      "execution_count": null,
      "outputs": []
    }
  ]
}